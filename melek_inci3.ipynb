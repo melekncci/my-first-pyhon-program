{
 "cells": [
  {
   "cell_type": "markdown",
   "metadata": {},
   "source": [
    "## Dairenin alanı uygulaması\n",
    "\n",
    "- Dairenin_alanı adında bir fonksiyon oluşturunuz.\n",
    "\n",
    "- Kullanıcıdan pi ve yarıçap bilgilerini  isteyiniz.\n",
    "\n",
    "- Daha sonra alan hesabını yapınız.\n",
    "\n",
    "\n",
    "\n",
    "EK BİLGİ: Dairenin alan formülü= pi * (yarıçap* * 2)\n"
   ]
  },
  {
   "cell_type": "code",
   "execution_count": 2,
   "metadata": {},
   "outputs": [
    {
     "name": "stdout",
     "output_type": "stream",
     "text": [
      "147\n"
     ]
    }
   ],
   "source": [
    "def area():\n",
    "    r = int(input(\"Please enter r: \"))\n",
    "    pi = int(input(\"Please enter pi: \"))\n",
    "    a = pi * (r ** 2)\n",
    "    print(a)\n",
    "area()\n",
    "    "
   ]
  },
  {
   "cell_type": "markdown",
   "metadata": {},
   "source": [
    "## Faktoriyel uygulaması\n",
    "\n",
    "- Faktoriyel adında fonksiyon oluşturunuz.\n",
    "\n",
    "- Döngü kullanarak paremetre olarak girilen sayının faktoriyelini hesaplayınız.\n",
    "\n",
    "- Format metodunu kullanarak ekrana yazdırınız.\n",
    "\n"
   ]
  },
  {
   "cell_type": "code",
   "execution_count": 6,
   "metadata": {},
   "outputs": [
    {
     "name": "stdout",
     "output_type": "stream",
     "text": [
      "The factorial of 5 is 120\n"
     ]
    }
   ],
   "source": [
    "def factorial(n):\n",
    "    result = 1\n",
    "    for i in range(1, n+1):\n",
    "        result *= i\n",
    "    print(\"The factorial of {} is {}\".format(n, result))\n",
    "    n = int(input(\"Please enter a positive integer: \")) \n",
    "    if n < 0:\n",
    "        print(\"n should be a positive integer\")\n",
    "        return result\n",
    "    if n == 0 or n == 1:\n",
    "        return 1 \n",
    "\n",
    "n = 5  # or any other positive integer\n",
    "factorial(n)\n"
   ]
  },
  {
   "cell_type": "markdown",
   "metadata": {},
   "source": [
    "## Class Uygulaması\n",
    "- Bir Personel classı oluşturunuz.\n",
    "- Attributes: id, isim, soyisim, doğum yılı, departman, haftada kaç saat çalıştığı, saatlik ücret\n",
    "- Attributleri print ve formatlama ile ekrana yazdırılız.\n",
    "\n",
    "! Örnek Formatlama: print(f'd1 : alan = {d1.alan_hesapla()} çevre = {d1.cevre_hesapla()}') "
   ]
  },
  {
   "cell_type": "code",
   "execution_count": 8,
   "metadata": {},
   "outputs": [
    {
     "name": "stdout",
     "output_type": "stream",
     "text": [
      "(17, 'Melek', 'İnci', 2001, 'Information Technology', 14, 350)\n"
     ]
    }
   ],
   "source": [
    "class Personel():\n",
    "    def __init__(self, id, name, surname, birth_year, department, work_hour_a_week, payment_per_hour ):\n",
    "        self.id = id\n",
    "        self.name = name\n",
    "        self.surname = surname\n",
    "        self.birth_year = birth_year\n",
    "        self.departmen = department\n",
    "        self.work_hour_a_week = work_hour_a_week\n",
    "        self.payment_per_hour = payment_per_hour\n",
    "    def __str__(self):\n",
    "        return\"ID: {}\\nName: {} {}\\nBirth year: {}\\nDepartment: {}\\nWork hour a week: {}\\n;payment per hour: {}\".format(self.id, self.name, self.surname, self.birth_year, self.department, self.work_hour_a_week, self.payment_per_hour)\n",
    "a = (17, \"Melek\", \"İnci\", 2001, \"Information Technology\", 14, 350)\n",
    "print(a)"
   ]
  },
  {
   "cell_type": "markdown",
   "metadata": {},
   "source": [
    "## Class Metotları\n",
    "\n",
    "- Personel classına aşağıdaki metotları ekleyiniz.\n",
    "\t- Yaş hesaplama: Güncel yıl - doğum yılı\n",
    "    - Maaş hesaplama: çalıştığı saat * saatlik ücret\n",
    "- Metot çıktılarını attributler ile birlikte format kullanarak gösteriniz."
   ]
  },
  {
   "cell_type": "code",
   "execution_count": 11,
   "metadata": {},
   "outputs": [],
   "source": [
    "import datetime\n",
    "class Personal():\n",
    "    def __init__(self, id, name, surname, birth_year, department, work_hour_a_week, payment_per_hour):\n",
    "        self.id = id\n",
    "        self.name = name\n",
    "        self.surname = surname\n",
    "        self.birth_year = birth_year\n",
    "        self.department = department\n",
    "        self.work_hour_a_week = work_hour_a_week\n",
    "        self.payment_per_hour = payment_per_hour\n",
    "    def calculate_age(self):\n",
    "        now = datetime.datetime.now()\n",
    "        return now.year - birth_year\n",
    "    def calculate_salary(self):\n",
    "        return work_hour_a_week * payment_per_hour\n",
    "    def final(self):\n",
    "        age = now.year - birth_year\n",
    "        salary = work_hour_a_week * payment_per_hour\n",
    "        output = \"ID: {}\\nName: {} {}\\nBirth year: {}\\nDepartment: {}\\nWork hour a week: {}\\n;payment per hour: {}\".format(self.id, self.name, self.surname, self.birth_year, self.department, self.work_hour_a_week, self.payment_per_hour, age, salary)\n",
    "        print(output)\n",
    "a = Personal(17, \"Melek\", \"İnci\", 2001, \"Information Technology\", 14, 350)"
   ]
  },
  {
   "cell_type": "markdown",
   "metadata": {},
   "source": [
    "## INHERITANCE (KALITIM)"
   ]
  },
  {
   "cell_type": "markdown",
   "metadata": {},
   "source": [
    "\"Calisan\" adlı bir sınıf tanımlayın. Bu sınıfa \"ad\", \"soyad\", \"maas\" özellikleri ekleyin. Bu sınıfta bir \"calis\" metodunu tanımlayın, bu metod çalışanların işyerinde çalıştığını belirten bir çıktı versin"
   ]
  },
  {
   "cell_type": "code",
   "execution_count": 12,
   "metadata": {},
   "outputs": [
    {
     "name": "stdout",
     "output_type": "stream",
     "text": [
      "Melek İnci works in here.\n"
     ]
    }
   ],
   "source": [
    "class worker():\n",
    "    def __init__(self, name, surname, salary):\n",
    "        self.name = name\n",
    "        self.surname = surname\n",
    "        self.salary = salary\n",
    "    def calis(self):\n",
    "        print(f\"{self.name} {self.surname} works in here.\")\n",
    "worker1 = worker(\"Melek\", \"İnci\", 21000)\n",
    "worker1.calis()"
   ]
  },
  {
   "cell_type": "markdown",
   "metadata": {},
   "source": [
    "\"Mudur\" adlı bir alt sınıf tanımlayın. \n",
    "Bu sınıf, \"Calisan\" sınıfından miras alsın. \"\n",
    "Mudur\" sınıfı, \"Calisan\" sınıfında tanımlanan özelliklere ek olarak, \"departman\" ve \"sicil_no\" gibi özellikleri içersin. \n",
    "Bu sınıfta bir \"calis\" metodu tanımlayın, bu metod çalışanların işyerinde yönetici olarak çalıştığını belirten bir çıktı versin."
   ]
  },
  {
   "cell_type": "code",
   "execution_count": 14,
   "metadata": {},
   "outputs": [
    {
     "name": "stdout",
     "output_type": "stream",
     "text": [
      "Melek İnci is a boss.\n"
     ]
    }
   ],
   "source": [
    "class worker():\n",
    "    def __init__(self, name, surname, salary):\n",
    "        self.name = name\n",
    "        self.surname = surname\n",
    "        self.salary = salary\n",
    "    def calis(self):\n",
    "        print(f\"{self.name} {self.surname} works in here.\")\n",
    "class boss(worker):\n",
    "    def __init__(self, name, surname, salary, department, registry_id ):\n",
    "        super().__init__(name, surname, salary)\n",
    "        self.department = department\n",
    "        self.registry_id = registry_id\n",
    "    def work(self):\n",
    "        print(f\"{self.name} {self.surname} is a boss.\")\n",
    "boss1 = boss(\"Melek\", \"İnci\", 21000, \"Mathematical engineering\", \"17\")\n",
    "boss1.work()\n"
   ]
  },
  {
   "cell_type": "markdown",
   "metadata": {},
   "source": [
    "\"Isci\" adlı bir alt sınıf tanımlayın. Bu sınıf da \"Calisan\" sınıfından miras alsın. \n",
    "\"Isci\" sınıfı, \"Calisan\" sınıfında tanımlanan özelliklere ek olarak, \"bolum\" ve \"is_gunu_sayisi\" gibi özellikleri içersin. \n",
    "Bu sınıfta bir \"calis\" metodu tanımlayın, bu metod çalışanların işyerinde işçi olarak çalıştığını belirten bir çıktı versin."
   ]
  },
  {
   "cell_type": "code",
   "execution_count": 15,
   "metadata": {},
   "outputs": [
    {
     "name": "stdout",
     "output_type": "stream",
     "text": [
      "Melek İnci is an employee.\n"
     ]
    }
   ],
   "source": [
    "class worker():\n",
    "    def __init__(self, name, surname, salary):\n",
    "        self.name = name\n",
    "        self.surname = surname\n",
    "        self.salary = salary\n",
    "    def calis(self):\n",
    "        print(f\"{self.name} {self.surname} works in here.\")\n",
    "class boss(worker):\n",
    "    def __init__(self, name, surname, salary, department, registry_id ):\n",
    "        super().__init__(name, surname, salary)\n",
    "        self.department = department\n",
    "        self.registry_id = registry_id\n",
    "    def work(self):\n",
    "        print(f\"{self.name} {self.surname} is a boss.\")\n",
    "class employee(worker):\n",
    "    def __init__(self, name, surname, salary, department, number_of_working_days):\n",
    "        super().__init__(name, surname, salary)\n",
    "        self.department = department\n",
    "        self.number_of_working_days = number_of_working_days\n",
    "    def work(self):\n",
    "        print(f\"{self.name} {self.surname} is an employee.\")\n",
    "employee1 = employee(\"Melek\", \"İnci\", 21000, \"Information Technology\", 5)\n",
    "employee1.work()"
   ]
  },
  {
   "cell_type": "markdown",
   "metadata": {},
   "source": [
    "Calisan\", \"Mudur\" ve \"Isci\" sınıflarından birkaç örnek nesne oluşturun ve bu nesnelerin özelliklerini ve metodlarını çağırın. Örneğin, bir \"Mudur\" örneği oluşturun ve bu örneğin \"ad\", \"soyad\", \"departman\" ve \"sicil_no\" özelliklerini belirleyin. Ardından, \"calis\" metodunu çağırın ve bu yöneticinin işyerinde çalıştığını belirten bir çıktı alın."
   ]
  },
  {
   "cell_type": "code",
   "execution_count": 16,
   "metadata": {},
   "outputs": [
    {
     "name": "stdout",
     "output_type": "stream",
     "text": [
      "Name: Melek\n",
      "Surname: İnci\n",
      "Salary: 21000\n",
      "Melek İnci works in here.\n",
      "Name: Melek\n",
      "Surname: İnci\n",
      "Salary: 21000\n",
      "Department: Information Technology\n",
      "Registry ID: 5\n",
      "Melek İnci is a boss.\n",
      "Name: Melek\n",
      "Surname: İnci\n",
      "Salary: 21000\n",
      "Department: Information Technology\n",
      "Number of Working Days: 5\n",
      "Melek İnci is an employee.\n"
     ]
    }
   ],
   "source": [
    "class worker():\n",
    "    def __init__(self, name, surname, salary):\n",
    "        self.name = name\n",
    "        self.surname = surname\n",
    "        self.salary = salary\n",
    "    def calis(self):\n",
    "        print(f\"{self.name} {self.surname} works in here.\")\n",
    "class boss():\n",
    "    def __init__(self, name, surname, salary, department, registry_id ):\n",
    "        self.name = name\n",
    "        self.surname = surname\n",
    "        self.salary = salary\n",
    "        self.department = department\n",
    "        self.registry_id = registry_id\n",
    "    def work(self):\n",
    "        print(f\"{self.name} {self.surname} is a boss.\")\n",
    "class employee():\n",
    "    def __init__(self, name, surname, salary, department, number_of_working_days):\n",
    "        self.name = name\n",
    "        self.surname = surname\n",
    "        self.salary = salary\n",
    "        self.department = department\n",
    "        self.number_of_working_days = number_of_working_days\n",
    "    def work(self):\n",
    "        print(f\"{self.name} {self.surname} is an employee.\")\n",
    "worker1 = worker(\"Melek\", \"İnci\", 21000)\n",
    "print(f\"Name: {worker1.name}\")\n",
    "print(f\"Surname: {worker1.surname}\")\n",
    "print(f\"Salary: {worker1.salary}\")\n",
    "worker1.calis()\n",
    "boss1 = boss(\"Melek\", \"İnci\", 21000, \"Information Technology\", \"5\")\n",
    "print(f\"Name: {boss1.name}\")\n",
    "print(f\"Surname: {boss1.surname}\")\n",
    "print(f\"Salary: {boss1.salary}\")\n",
    "print(f\"Department: {boss1.department}\")\n",
    "print(f\"Registry ID: {boss1.registry_id}\")\n",
    "boss1.work()\n",
    "employee1 = employee(\"Melek\", \"İnci\", 21000, \"Information Technology\", \"5\")\n",
    "print(f\"Name: {employee1.name}\")\n",
    "print(f\"Surname: {employee1.surname}\")\n",
    "print(f\"Salary: {employee1.salary}\")\n",
    "print(f\"Department: {employee1.department}\")\n",
    "print(f\"Number of Working Days: {employee1.number_of_working_days}\")\n",
    "employee1.work()"
   ]
  }
 ],
 "metadata": {
  "kernelspec": {
   "display_name": "Python 3",
   "language": "python",
   "name": "python3"
  },
  "language_info": {
   "codemirror_mode": {
    "name": "ipython",
    "version": 3
   },
   "file_extension": ".py",
   "mimetype": "text/x-python",
   "name": "python",
   "nbconvert_exporter": "python",
   "pygments_lexer": "ipython3",
   "version": "3.11.3"
  }
 },
 "nbformat": 4,
 "nbformat_minor": 2
}
