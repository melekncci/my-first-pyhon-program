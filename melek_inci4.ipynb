{
  "cells": [
    {
      "cell_type": "markdown",
      "id": "229fb5e4",
      "metadata": {
        "id": "229fb5e4"
      },
      "source": [
        "# Exercise 1 \n",
        "Enumerate methodunu araştırın ve aşağıdaki örneği enumerate methodu ile yapın."
      ]
    },
    {
      "cell_type": "code",
      "execution_count": 1,
      "id": "96f1c03c",
      "metadata": {
        "colab": {
          "base_uri": "https://localhost:8080/"
        },
        "id": "96f1c03c",
        "outputId": "6bcf29cc-1774-431c-9113-d463c8e10794"
      },
      "outputs": [
        {
          "name": "stdout",
          "output_type": "stream",
          "text": [
            "1 kiraz\n",
            "2 karpuz\n",
            "3 dut\n",
            "4 muz\n",
            "5 çilek\n",
            "6 yenidünya\n",
            "7 şeftali\n"
          ]
        }
      ],
      "source": [
        "#for index in range(len(meyveler)):\n",
        "#print(\"{}. indexte bulunan meyve: {}\".format(index,meyveler[index]))\n",
        "\n",
        "meyveler=[\"kiraz\",\"karpuz\",\"dut\",\"muz\",\"çilek\",\"yenidünya\",\"şeftali\"]\n",
        "for index,meyve in enumerate(meyveler,start=1):\n",
        "    print(index,meyve)  "
      ]
    },
    {
      "cell_type": "markdown",
      "id": "853ffbe1",
      "metadata": {
        "id": "853ffbe1"
      },
      "source": [
        "# Exercise 2\n",
        "Aşagıdaki listede bulunan string veri tipindeki öğeleri yeni_liste isimli değişkene ekleyin."
      ]
    },
    {
      "cell_type": "code",
      "execution_count": 2,
      "id": "cc8a78f7",
      "metadata": {
        "colab": {
          "base_uri": "https://localhost:8080/"
        },
        "id": "cc8a78f7",
        "outputId": "646ade68-1fe6-4c71-f99d-9089036a1401"
      },
      "outputs": [
        {
          "name": "stdout",
          "output_type": "stream",
          "text": [
            "['Python', '3', 'Hi-Kod', 'False']\n"
          ]
        }
      ],
      "source": [
        "liste = [\"Python\",True,9,\"3\",8.4,\"Hi-Kod\",\"False\",4.7]\n",
        "yeni_liste=[]\n",
        "for i in liste:\n",
        "    if type(i)==str:\n",
        "        yeni_liste.append(i)\n",
        "\n",
        "print(yeni_liste)        "
      ]
    },
    {
      "cell_type": "markdown",
      "id": "a4ca65a3",
      "metadata": {
        "id": "a4ca65a3"
      },
      "source": [
        "# Exercise 3\n",
        "- Bir sözlük oluşturalım ve bu sözlükte öğrencilerin isimleri ve Matematik,Fizik,Kimya notları tutulsun.\n",
        "- Kullanıcıdan isim ve ders ismi(Matematik,Fizik,Kimya) istensin ve bu bilgilere göre çıktı verilsin."
      ]
    },
    {
      "cell_type": "code",
      "execution_count": 1,
      "id": "88aa8833",
      "metadata": {
        "colab": {
          "base_uri": "https://localhost:8080/"
        },
        "id": "88aa8833",
        "outputId": "3ca7da3d-04ca-4d24-a02c-1d6416021d92"
      },
      "outputs": [
        {
          "name": "stdout",
          "output_type": "stream",
          "text": [
            "Veri tabanında bu öğrenci bulunmamaktadır.\n"
          ]
        }
      ],
      "source": [
        "sözlük={\"Melek\":{\"matematik\":91,\"fizik\":87,\"kimya\":87},\"barış\":{\"matematik\":95,\"fizik\":90,\"kimya\":70},\"merve\":{\"matematik\":67,\"fizik\":54,\"kimya\":93}}\n",
        "isim=input(\"Lütfen adınızı girin: \")\n",
        "ders=input(\"Lütfen ders adını seçin: \")\n",
        "if isim in sözlük:\n",
        "          print(f'{isim} isimli öğrencinin {ders} notu:')\n",
        "          print(sözlük[isim][ders])\n",
        "else:\n",
        "    print(\"Veri tabanında bu öğrenci bulunmamaktadır.\")\n"
      ]
    }
  ],
  "metadata": {
    "colab": {
      "provenance": []
    },
    "kernelspec": {
      "display_name": "Python 3 (ipykernel)",
      "language": "python",
      "name": "python3"
    },
    "language_info": {
      "codemirror_mode": {
        "name": "ipython",
        "version": 3
      },
      "file_extension": ".py",
      "mimetype": "text/x-python",
      "name": "python",
      "nbconvert_exporter": "python",
      "pygments_lexer": "ipython3",
      "version": "3.11.3"
    }
  },
  "nbformat": 4,
  "nbformat_minor": 5
}
