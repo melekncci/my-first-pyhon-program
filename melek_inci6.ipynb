{
 "cells": [
  {
   "cell_type": "code",
   "execution_count": 1,
   "id": "e3632fbc",
   "metadata": {},
   "outputs": [],
   "source": [
    "sozluk = {\"Kategori\": [\"Giyim\",\"Giyim\", \"Ayakkabı\",\"Aksesuar\",\"Ayakkabı\",\"Giyim\",\"Aksesuar\",\"Aksesuar\",\"Ayakkabı\",\"Giyim\"],\n",
    "         \"Ürün\" : [\"Kazak\",\"T-shirt\",\"Sandalet\",\"Küpe\",\"Spor Ayakkabı\",\"Pantolon\",\"Kolye\",\"Yüzük\",\"Çizme\",\"Ceket\"],\n",
    "         \"Fiyat\" : [300,180,450,50,700,400,150,80,850,900]}"
   ]
  },
  {
   "cell_type": "markdown",
   "id": "e380a30f",
   "metadata": {},
   "source": [
    "Yukarıdaki sözlüğü bir DataFrame haline getirin."
   ]
  },
  {
   "cell_type": "code",
   "execution_count": 2,
   "id": "fa7a1757",
   "metadata": {},
   "outputs": [],
   "source": [
    "import pandas as pd "
   ]
  },
  {
   "cell_type": "code",
   "execution_count": 3,
   "id": "113af81d",
   "metadata": {},
   "outputs": [
    {
     "data": {
      "text/html": [
       "<div>\n",
       "<style scoped>\n",
       "    .dataframe tbody tr th:only-of-type {\n",
       "        vertical-align: middle;\n",
       "    }\n",
       "\n",
       "    .dataframe tbody tr th {\n",
       "        vertical-align: top;\n",
       "    }\n",
       "\n",
       "    .dataframe thead th {\n",
       "        text-align: right;\n",
       "    }\n",
       "</style>\n",
       "<table border=\"1\" class=\"dataframe\">\n",
       "  <thead>\n",
       "    <tr style=\"text-align: right;\">\n",
       "      <th></th>\n",
       "      <th>Kategori</th>\n",
       "      <th>Ürün</th>\n",
       "      <th>Fiyat</th>\n",
       "    </tr>\n",
       "  </thead>\n",
       "  <tbody>\n",
       "    <tr>\n",
       "      <th>0</th>\n",
       "      <td>Giyim</td>\n",
       "      <td>Kazak</td>\n",
       "      <td>300</td>\n",
       "    </tr>\n",
       "    <tr>\n",
       "      <th>1</th>\n",
       "      <td>Giyim</td>\n",
       "      <td>T-shirt</td>\n",
       "      <td>180</td>\n",
       "    </tr>\n",
       "    <tr>\n",
       "      <th>2</th>\n",
       "      <td>Ayakkabı</td>\n",
       "      <td>Sandalet</td>\n",
       "      <td>450</td>\n",
       "    </tr>\n",
       "    <tr>\n",
       "      <th>3</th>\n",
       "      <td>Aksesuar</td>\n",
       "      <td>Küpe</td>\n",
       "      <td>50</td>\n",
       "    </tr>\n",
       "    <tr>\n",
       "      <th>4</th>\n",
       "      <td>Ayakkabı</td>\n",
       "      <td>Spor Ayakkabı</td>\n",
       "      <td>700</td>\n",
       "    </tr>\n",
       "    <tr>\n",
       "      <th>5</th>\n",
       "      <td>Giyim</td>\n",
       "      <td>Pantolon</td>\n",
       "      <td>400</td>\n",
       "    </tr>\n",
       "    <tr>\n",
       "      <th>6</th>\n",
       "      <td>Aksesuar</td>\n",
       "      <td>Kolye</td>\n",
       "      <td>150</td>\n",
       "    </tr>\n",
       "    <tr>\n",
       "      <th>7</th>\n",
       "      <td>Aksesuar</td>\n",
       "      <td>Yüzük</td>\n",
       "      <td>80</td>\n",
       "    </tr>\n",
       "    <tr>\n",
       "      <th>8</th>\n",
       "      <td>Ayakkabı</td>\n",
       "      <td>Çizme</td>\n",
       "      <td>850</td>\n",
       "    </tr>\n",
       "    <tr>\n",
       "      <th>9</th>\n",
       "      <td>Giyim</td>\n",
       "      <td>Ceket</td>\n",
       "      <td>900</td>\n",
       "    </tr>\n",
       "  </tbody>\n",
       "</table>\n",
       "</div>"
      ],
      "text/plain": [
       "   Kategori           Ürün  Fiyat\n",
       "0     Giyim          Kazak    300\n",
       "1     Giyim        T-shirt    180\n",
       "2  Ayakkabı       Sandalet    450\n",
       "3  Aksesuar           Küpe     50\n",
       "4  Ayakkabı  Spor Ayakkabı    700\n",
       "5     Giyim       Pantolon    400\n",
       "6  Aksesuar          Kolye    150\n",
       "7  Aksesuar          Yüzük     80\n",
       "8  Ayakkabı          Çizme    850\n",
       "9     Giyim          Ceket    900"
      ]
     },
     "execution_count": 3,
     "metadata": {},
     "output_type": "execute_result"
    }
   ],
   "source": [
    "dataframe = pd.DataFrame(sozluk)\n",
    "dataframe"
   ]
  },
  {
   "cell_type": "markdown",
   "id": "fe81a0e9",
   "metadata": {},
   "source": [
    "# 1\n",
    "- 2.indexde bulunan kategoriyi bulalım (Sadece kategori bilgisi) \n",
    "- 2. indexde bulunan ürünü bulalım (Sadece ürün bilgisi)\n",
    "- 4.indexden 9.indexe kadar olan verileri bulalım (Kategori,ürün,fiyat bilgisi beraber)\n",
    "- 1.indexden 6.indexe kadar olan ürünleri bulalım (Sadece ürün bilgisi)\n"
   ]
  },
  {
   "cell_type": "code",
   "execution_count": 4,
   "id": "901c6a0d",
   "metadata": {},
   "outputs": [
    {
     "data": {
      "text/plain": [
       "'Ayakkabı'"
      ]
     },
     "execution_count": 4,
     "metadata": {},
     "output_type": "execute_result"
    }
   ],
   "source": [
    "dataframe.iloc[2,0]"
   ]
  },
  {
   "cell_type": "code",
   "execution_count": 5,
   "id": "00397415",
   "metadata": {},
   "outputs": [
    {
     "data": {
      "text/plain": [
       "'Sandalet'"
      ]
     },
     "execution_count": 5,
     "metadata": {},
     "output_type": "execute_result"
    }
   ],
   "source": [
    "dataframe.iloc[2,1]"
   ]
  },
  {
   "cell_type": "code",
   "execution_count": 6,
   "id": "d0fe5e29",
   "metadata": {},
   "outputs": [
    {
     "data": {
      "text/html": [
       "<div>\n",
       "<style scoped>\n",
       "    .dataframe tbody tr th:only-of-type {\n",
       "        vertical-align: middle;\n",
       "    }\n",
       "\n",
       "    .dataframe tbody tr th {\n",
       "        vertical-align: top;\n",
       "    }\n",
       "\n",
       "    .dataframe thead th {\n",
       "        text-align: right;\n",
       "    }\n",
       "</style>\n",
       "<table border=\"1\" class=\"dataframe\">\n",
       "  <thead>\n",
       "    <tr style=\"text-align: right;\">\n",
       "      <th></th>\n",
       "      <th>Kategori</th>\n",
       "      <th>Ürün</th>\n",
       "      <th>Fiyat</th>\n",
       "    </tr>\n",
       "  </thead>\n",
       "  <tbody>\n",
       "    <tr>\n",
       "      <th>4</th>\n",
       "      <td>Ayakkabı</td>\n",
       "      <td>Spor Ayakkabı</td>\n",
       "      <td>700</td>\n",
       "    </tr>\n",
       "    <tr>\n",
       "      <th>5</th>\n",
       "      <td>Giyim</td>\n",
       "      <td>Pantolon</td>\n",
       "      <td>400</td>\n",
       "    </tr>\n",
       "    <tr>\n",
       "      <th>6</th>\n",
       "      <td>Aksesuar</td>\n",
       "      <td>Kolye</td>\n",
       "      <td>150</td>\n",
       "    </tr>\n",
       "    <tr>\n",
       "      <th>7</th>\n",
       "      <td>Aksesuar</td>\n",
       "      <td>Yüzük</td>\n",
       "      <td>80</td>\n",
       "    </tr>\n",
       "    <tr>\n",
       "      <th>8</th>\n",
       "      <td>Ayakkabı</td>\n",
       "      <td>Çizme</td>\n",
       "      <td>850</td>\n",
       "    </tr>\n",
       "  </tbody>\n",
       "</table>\n",
       "</div>"
      ],
      "text/plain": [
       "   Kategori           Ürün  Fiyat\n",
       "4  Ayakkabı  Spor Ayakkabı    700\n",
       "5     Giyim       Pantolon    400\n",
       "6  Aksesuar          Kolye    150\n",
       "7  Aksesuar          Yüzük     80\n",
       "8  Ayakkabı          Çizme    850"
      ]
     },
     "execution_count": 6,
     "metadata": {},
     "output_type": "execute_result"
    }
   ],
   "source": [
    "dataframe.iloc[4:9]"
   ]
  },
  {
   "cell_type": "code",
   "execution_count": 7,
   "id": "17596279",
   "metadata": {},
   "outputs": [
    {
     "data": {
      "text/plain": [
       "1          T-shirt\n",
       "2         Sandalet\n",
       "3             Küpe\n",
       "4    Spor Ayakkabı\n",
       "5         Pantolon\n",
       "Name: Ürün, dtype: object"
      ]
     },
     "execution_count": 7,
     "metadata": {},
     "output_type": "execute_result"
    }
   ],
   "source": [
    "dataframe.iloc[1:6,1]"
   ]
  },
  {
   "cell_type": "markdown",
   "id": "18d5e3a5",
   "metadata": {},
   "source": [
    "# 2\n",
    "- Giyim kategorisinde bulunan ürünleri gösterin\n",
    "- Ayakkabı kategorisinde bulunan ürünleri gösterin\n",
    "- Aksesuar kategorisinde bulunan ürünleri gösterin"
   ]
  },
  {
   "cell_type": "code",
   "execution_count": 8,
   "id": "54393ef2",
   "metadata": {},
   "outputs": [
    {
     "data": {
      "text/html": [
       "<div>\n",
       "<style scoped>\n",
       "    .dataframe tbody tr th:only-of-type {\n",
       "        vertical-align: middle;\n",
       "    }\n",
       "\n",
       "    .dataframe tbody tr th {\n",
       "        vertical-align: top;\n",
       "    }\n",
       "\n",
       "    .dataframe thead th {\n",
       "        text-align: right;\n",
       "    }\n",
       "</style>\n",
       "<table border=\"1\" class=\"dataframe\">\n",
       "  <thead>\n",
       "    <tr style=\"text-align: right;\">\n",
       "      <th></th>\n",
       "      <th>Kategori</th>\n",
       "      <th>Ürün</th>\n",
       "      <th>Fiyat</th>\n",
       "    </tr>\n",
       "  </thead>\n",
       "  <tbody>\n",
       "    <tr>\n",
       "      <th>0</th>\n",
       "      <td>Giyim</td>\n",
       "      <td>Kazak</td>\n",
       "      <td>300</td>\n",
       "    </tr>\n",
       "    <tr>\n",
       "      <th>1</th>\n",
       "      <td>Giyim</td>\n",
       "      <td>T-shirt</td>\n",
       "      <td>180</td>\n",
       "    </tr>\n",
       "    <tr>\n",
       "      <th>5</th>\n",
       "      <td>Giyim</td>\n",
       "      <td>Pantolon</td>\n",
       "      <td>400</td>\n",
       "    </tr>\n",
       "    <tr>\n",
       "      <th>9</th>\n",
       "      <td>Giyim</td>\n",
       "      <td>Ceket</td>\n",
       "      <td>900</td>\n",
       "    </tr>\n",
       "  </tbody>\n",
       "</table>\n",
       "</div>"
      ],
      "text/plain": [
       "  Kategori      Ürün  Fiyat\n",
       "0    Giyim     Kazak    300\n",
       "1    Giyim   T-shirt    180\n",
       "5    Giyim  Pantolon    400\n",
       "9    Giyim     Ceket    900"
      ]
     },
     "execution_count": 8,
     "metadata": {},
     "output_type": "execute_result"
    }
   ],
   "source": [
    "dataframe[dataframe.Kategori == \"Giyim\"]"
   ]
  },
  {
   "cell_type": "code",
   "execution_count": 9,
   "id": "72adf866",
   "metadata": {},
   "outputs": [
    {
     "data": {
      "text/html": [
       "<div>\n",
       "<style scoped>\n",
       "    .dataframe tbody tr th:only-of-type {\n",
       "        vertical-align: middle;\n",
       "    }\n",
       "\n",
       "    .dataframe tbody tr th {\n",
       "        vertical-align: top;\n",
       "    }\n",
       "\n",
       "    .dataframe thead th {\n",
       "        text-align: right;\n",
       "    }\n",
       "</style>\n",
       "<table border=\"1\" class=\"dataframe\">\n",
       "  <thead>\n",
       "    <tr style=\"text-align: right;\">\n",
       "      <th></th>\n",
       "      <th>Kategori</th>\n",
       "      <th>Ürün</th>\n",
       "      <th>Fiyat</th>\n",
       "    </tr>\n",
       "  </thead>\n",
       "  <tbody>\n",
       "    <tr>\n",
       "      <th>2</th>\n",
       "      <td>Ayakkabı</td>\n",
       "      <td>Sandalet</td>\n",
       "      <td>450</td>\n",
       "    </tr>\n",
       "    <tr>\n",
       "      <th>4</th>\n",
       "      <td>Ayakkabı</td>\n",
       "      <td>Spor Ayakkabı</td>\n",
       "      <td>700</td>\n",
       "    </tr>\n",
       "    <tr>\n",
       "      <th>8</th>\n",
       "      <td>Ayakkabı</td>\n",
       "      <td>Çizme</td>\n",
       "      <td>850</td>\n",
       "    </tr>\n",
       "  </tbody>\n",
       "</table>\n",
       "</div>"
      ],
      "text/plain": [
       "   Kategori           Ürün  Fiyat\n",
       "2  Ayakkabı       Sandalet    450\n",
       "4  Ayakkabı  Spor Ayakkabı    700\n",
       "8  Ayakkabı          Çizme    850"
      ]
     },
     "execution_count": 9,
     "metadata": {},
     "output_type": "execute_result"
    }
   ],
   "source": [
    "dataframe[dataframe.Kategori == \"Ayakkabı\"]"
   ]
  },
  {
   "cell_type": "code",
   "execution_count": 10,
   "id": "867388c2",
   "metadata": {},
   "outputs": [
    {
     "data": {
      "text/html": [
       "<div>\n",
       "<style scoped>\n",
       "    .dataframe tbody tr th:only-of-type {\n",
       "        vertical-align: middle;\n",
       "    }\n",
       "\n",
       "    .dataframe tbody tr th {\n",
       "        vertical-align: top;\n",
       "    }\n",
       "\n",
       "    .dataframe thead th {\n",
       "        text-align: right;\n",
       "    }\n",
       "</style>\n",
       "<table border=\"1\" class=\"dataframe\">\n",
       "  <thead>\n",
       "    <tr style=\"text-align: right;\">\n",
       "      <th></th>\n",
       "      <th>Kategori</th>\n",
       "      <th>Ürün</th>\n",
       "      <th>Fiyat</th>\n",
       "    </tr>\n",
       "  </thead>\n",
       "  <tbody>\n",
       "    <tr>\n",
       "      <th>3</th>\n",
       "      <td>Aksesuar</td>\n",
       "      <td>Küpe</td>\n",
       "      <td>50</td>\n",
       "    </tr>\n",
       "    <tr>\n",
       "      <th>6</th>\n",
       "      <td>Aksesuar</td>\n",
       "      <td>Kolye</td>\n",
       "      <td>150</td>\n",
       "    </tr>\n",
       "    <tr>\n",
       "      <th>7</th>\n",
       "      <td>Aksesuar</td>\n",
       "      <td>Yüzük</td>\n",
       "      <td>80</td>\n",
       "    </tr>\n",
       "  </tbody>\n",
       "</table>\n",
       "</div>"
      ],
      "text/plain": [
       "   Kategori   Ürün  Fiyat\n",
       "3  Aksesuar   Küpe     50\n",
       "6  Aksesuar  Kolye    150\n",
       "7  Aksesuar  Yüzük     80"
      ]
     },
     "execution_count": 10,
     "metadata": {},
     "output_type": "execute_result"
    }
   ],
   "source": [
    "dataframe[dataframe.Kategori == \"Aksesuar\"]"
   ]
  },
  {
   "cell_type": "markdown",
   "id": "5c31302a",
   "metadata": {},
   "source": [
    "# 3\n",
    "- Giyim kategorisinde fiyatı 300'den fazla olan ürünleri gösterin\n",
    "- Ayakkabı kategorisinde fiyatı 600'den az olan ürünleri gösterin\n",
    "- Aksesuar kategorisinde fiyatı 100'den fazla olan aksesuarı gösterin"
   ]
  },
  {
   "cell_type": "code",
   "execution_count": 11,
   "id": "0b4a129e",
   "metadata": {},
   "outputs": [
    {
     "data": {
      "text/html": [
       "<div>\n",
       "<style scoped>\n",
       "    .dataframe tbody tr th:only-of-type {\n",
       "        vertical-align: middle;\n",
       "    }\n",
       "\n",
       "    .dataframe tbody tr th {\n",
       "        vertical-align: top;\n",
       "    }\n",
       "\n",
       "    .dataframe thead th {\n",
       "        text-align: right;\n",
       "    }\n",
       "</style>\n",
       "<table border=\"1\" class=\"dataframe\">\n",
       "  <thead>\n",
       "    <tr style=\"text-align: right;\">\n",
       "      <th></th>\n",
       "      <th>Kategori</th>\n",
       "      <th>Ürün</th>\n",
       "      <th>Fiyat</th>\n",
       "    </tr>\n",
       "  </thead>\n",
       "  <tbody>\n",
       "    <tr>\n",
       "      <th>5</th>\n",
       "      <td>Giyim</td>\n",
       "      <td>Pantolon</td>\n",
       "      <td>400</td>\n",
       "    </tr>\n",
       "    <tr>\n",
       "      <th>9</th>\n",
       "      <td>Giyim</td>\n",
       "      <td>Ceket</td>\n",
       "      <td>900</td>\n",
       "    </tr>\n",
       "  </tbody>\n",
       "</table>\n",
       "</div>"
      ],
      "text/plain": [
       "  Kategori      Ürün  Fiyat\n",
       "5    Giyim  Pantolon    400\n",
       "9    Giyim     Ceket    900"
      ]
     },
     "execution_count": 11,
     "metadata": {},
     "output_type": "execute_result"
    }
   ],
   "source": [
    "dataframe[(dataframe[\"Kategori\"]==\"Giyim\") & (dataframe[\"Fiyat\"]>300)]"
   ]
  },
  {
   "cell_type": "code",
   "execution_count": 12,
   "id": "d5dada66",
   "metadata": {},
   "outputs": [
    {
     "data": {
      "text/html": [
       "<div>\n",
       "<style scoped>\n",
       "    .dataframe tbody tr th:only-of-type {\n",
       "        vertical-align: middle;\n",
       "    }\n",
       "\n",
       "    .dataframe tbody tr th {\n",
       "        vertical-align: top;\n",
       "    }\n",
       "\n",
       "    .dataframe thead th {\n",
       "        text-align: right;\n",
       "    }\n",
       "</style>\n",
       "<table border=\"1\" class=\"dataframe\">\n",
       "  <thead>\n",
       "    <tr style=\"text-align: right;\">\n",
       "      <th></th>\n",
       "      <th>Kategori</th>\n",
       "      <th>Ürün</th>\n",
       "      <th>Fiyat</th>\n",
       "    </tr>\n",
       "  </thead>\n",
       "  <tbody>\n",
       "    <tr>\n",
       "      <th>2</th>\n",
       "      <td>Ayakkabı</td>\n",
       "      <td>Sandalet</td>\n",
       "      <td>450</td>\n",
       "    </tr>\n",
       "  </tbody>\n",
       "</table>\n",
       "</div>"
      ],
      "text/plain": [
       "   Kategori      Ürün  Fiyat\n",
       "2  Ayakkabı  Sandalet    450"
      ]
     },
     "execution_count": 12,
     "metadata": {},
     "output_type": "execute_result"
    }
   ],
   "source": [
    "dataframe[(dataframe[\"Kategori\"]== \"Ayakkabı\")&(dataframe[\"Fiyat\"]<600)]"
   ]
  },
  {
   "cell_type": "code",
   "execution_count": 13,
   "id": "3e812c2d",
   "metadata": {},
   "outputs": [
    {
     "data": {
      "text/html": [
       "<div>\n",
       "<style scoped>\n",
       "    .dataframe tbody tr th:only-of-type {\n",
       "        vertical-align: middle;\n",
       "    }\n",
       "\n",
       "    .dataframe tbody tr th {\n",
       "        vertical-align: top;\n",
       "    }\n",
       "\n",
       "    .dataframe thead th {\n",
       "        text-align: right;\n",
       "    }\n",
       "</style>\n",
       "<table border=\"1\" class=\"dataframe\">\n",
       "  <thead>\n",
       "    <tr style=\"text-align: right;\">\n",
       "      <th></th>\n",
       "      <th>Kategori</th>\n",
       "      <th>Ürün</th>\n",
       "      <th>Fiyat</th>\n",
       "    </tr>\n",
       "  </thead>\n",
       "  <tbody>\n",
       "    <tr>\n",
       "      <th>6</th>\n",
       "      <td>Aksesuar</td>\n",
       "      <td>Kolye</td>\n",
       "      <td>150</td>\n",
       "    </tr>\n",
       "  </tbody>\n",
       "</table>\n",
       "</div>"
      ],
      "text/plain": [
       "   Kategori   Ürün  Fiyat\n",
       "6  Aksesuar  Kolye    150"
      ]
     },
     "execution_count": 13,
     "metadata": {},
     "output_type": "execute_result"
    }
   ],
   "source": [
    "dataframe[(dataframe[\"Kategori\"] ==\"Aksesuar\") & (dataframe[\"Fiyat\"]>100)]"
   ]
  }
 ],
 "metadata": {
  "kernelspec": {
   "display_name": "Python 3 (ipykernel)",
   "language": "python",
   "name": "python3"
  },
  "language_info": {
   "codemirror_mode": {
    "name": "ipython",
    "version": 3
   },
   "file_extension": ".py",
   "mimetype": "text/x-python",
   "name": "python",
   "nbconvert_exporter": "python",
   "pygments_lexer": "ipython3",
   "version": "3.11.3"
  }
 },
 "nbformat": 4,
 "nbformat_minor": 5
}
