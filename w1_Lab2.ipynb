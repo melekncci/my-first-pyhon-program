{
 "cells": [
  {
   "cell_type": "markdown",
   "metadata": {
    "id": "slynoBhXo6M3"
   },
   "source": [
    "# Input\n",
    "\n",
    "Your task is to complete the code below in order to evaluate the results of four basic arithmetic operations."
   ]
  },
  {
   "cell_type": "code",
   "execution_count": 1,
   "metadata": {
    "colab": {
     "base_uri": "https://localhost:8080/"
    },
    "id": "To1YMDSNo6M6",
    "outputId": "f904181e-ad89-4aae-fa8f-3e2f001c2021",
    "ExecuteTime": {
     "end_time": "2023-09-03T08:16:10.939845800Z",
     "start_time": "2023-09-03T08:16:05.729985900Z"
    }
   },
   "outputs": [
    {
     "name": "stdout",
     "output_type": "stream",
     "text": [
      "1.2000000000000002\n",
      "1.0\n",
      "0.11000000000000001\n",
      "11.0\n"
     ]
    }
   ],
   "source": [
    "# TODO: input a float value for variable A here\n",
    "A = float(input())\n",
    "\n",
    "# TODO: input a float value for variable B here\n",
    "B =float(input())\n",
    "\n",
    "# TODO: output the result of addition here\n",
    "print(A+B)\n",
    "\n",
    "# TODO: output the result of subtraction here\n",
    "print(A-B)\n",
    "\n",
    "# TODO: output the result of multiplication here\n",
    "print(A*B)\n",
    "\n",
    "# TODO: output the result of division here\n",
    "print(A/B)\n"
   ]
  },
  {
   "cell_type": "markdown",
   "metadata": {
    "id": "v3ss0D1uo6M8"
   },
   "source": [
    "Write a program that asks the user to input a number, then compute and print the square of that number."
   ]
  },
  {
   "cell_type": "code",
   "execution_count": 14,
   "metadata": {
    "colab": {
     "base_uri": "https://localhost:8080/"
    },
    "id": "qMRzuCu8o6M9",
    "outputId": "3f701546-14b3-49ad-facd-39573608cceb"
   },
   "outputs": [
    {
     "output_type": "stream",
     "name": "stdout",
     "text": [
      "Please enter a number:5\n",
      "25\n"
     ]
    }
   ],
   "source": [
    "# Your code here\n",
    "user_number=int(input(\"Please enter a number:\"))\n",
    "print(user_number**2)\n",
    "\n",
    "\n"
   ]
  },
  {
   "cell_type": "markdown",
   "metadata": {
    "id": "GOX1oUL5o6M9"
   },
   "source": [
    "Write a program that calculates the sum of four integer numbers entered with the keyboard."
   ]
  },
  {
   "cell_type": "code",
   "execution_count": 17,
   "metadata": {
    "colab": {
     "base_uri": "https://localhost:8080/"
    },
    "id": "A1bp6DXQo6M9",
    "outputId": "ece76870-84a6-4d62-ad0d-ff85e631c758"
   },
   "outputs": [
    {
     "output_type": "stream",
     "name": "stdout",
     "text": [
      "Please enter number1:2\n",
      "Please enter number2:3\n",
      "Please enter number3:4\n",
      "Please enter number4:6\n",
      "15\n"
     ]
    }
   ],
   "source": [
    "number1=int(input(\"Please enter number1:\"))\n",
    "number2=int(input(\"Please enter number2:\"))\n",
    "number3=int(input(\"Please enter number3:\"))\n",
    "number4=int(input(\"Please enter number4:\"))\n",
    "print(number1+number2+number3+number4)\n",
    "\n"
   ]
  },
  {
   "cell_type": "markdown",
   "metadata": {
    "id": "bf-rZKnio6M-"
   },
   "source": [
    "# Output\n",
    "Read and try to understand the following examples of the print function:"
   ]
  },
  {
   "cell_type": "code",
   "execution_count": 19,
   "metadata": {
    "colab": {
     "base_uri": "https://localhost:8080/"
    },
    "id": "A1PK_xFEo6M-",
    "outputId": "16f022ec-2452-4d10-d5da-3fd53ba861c5"
   },
   "outputs": [
    {
     "output_type": "stream",
     "name": "stdout",
     "text": [
      "hello world\n",
      "hej hej welcome to halmstad foo bar\n",
      "My name is Bob and I am 30 years old.\n",
      "My name is Bob and I am 30 years old.\n"
     ]
    }
   ],
   "source": [
    "# You can print just one argument\n",
    "print(\"hello world\")\n",
    "\n",
    "# You can print several arguments\n",
    "print(\"hej hej\", \"welcome to halmstad\", \"foo bar\")\n",
    "\n",
    "# Below are some example of mixing numbers and text inside the print() function\n",
    "name = \"Bob\"\n",
    "age = 30\n",
    "print(\"My name is\", name,\"and I am\", age,\"years old.\")\n",
    "print(f\"My name is {name} and I am {age} years old.\")"
   ]
  },
  {
   "cell_type": "markdown",
   "metadata": {
    "id": "uxy4QxUzo6M-"
   },
   "source": [
    "# Glasses of water\n",
    "Consider the following code:"
   ]
  },
  {
   "cell_type": "code",
   "execution_count": 27,
   "metadata": {
    "colab": {
     "base_uri": "https://localhost:8080/"
    },
    "id": "m6LZXl6Lo6M_",
    "outputId": "4ec19fc4-d10d-47cb-d364-d3bc1f214b80"
   },
   "outputs": [
    {
     "output_type": "stream",
     "name": "stdout",
     "text": [
      "I drank 2 glasses of water today.\n"
     ]
    }
   ],
   "source": [
    "glass_of_water = 2\n",
    "print(\"I drank\", glass_of_water, \"glasses of water today.\")"
   ]
  },
  {
   "cell_type": "markdown",
   "metadata": {
    "id": "0eWqa2ldo6M_"
   },
   "source": [
    "Increase the value of the variable `glass_of_water` by 1, then print it again."
   ]
  },
  {
   "cell_type": "code",
   "source": [
    "# TODO: increment glass_of_water by 1\n",
    "glass_of_water=glass_of_water+1\n",
    "print(\"I drank\" , glass_of_water, \"glasses of water today.\")\n",
    "\n",
    "# TODO: print it\n",
    "\n"
   ],
   "metadata": {
    "colab": {
     "base_uri": "https://localhost:8080/"
    },
    "id": "zxVtMzJTu6gO",
    "outputId": "c62c6675-815b-482b-ee4d-95fdb87ddf51"
   },
   "execution_count": 28,
   "outputs": [
    {
     "output_type": "stream",
     "name": "stdout",
     "text": [
      "I drank 3 glasses of water today.\n"
     ]
    }
   ]
  },
  {
   "cell_type": "markdown",
   "metadata": {
    "id": "1aid3Ikoo6NA"
   },
   "source": [
    "Double the value of variable glass_of_water, then print it again."
   ]
  },
  {
   "cell_type": "code",
   "execution_count": 29,
   "metadata": {
    "colab": {
     "base_uri": "https://localhost:8080/"
    },
    "id": "7aY0d3vRo6NA",
    "outputId": "2fb7a873-9860-4e54-ef04-7e1cff3db05f"
   },
   "outputs": [
    {
     "output_type": "stream",
     "name": "stdout",
     "text": [
      "I drank 6 glasses of water today.\n"
     ]
    }
   ],
   "source": [
    "# TODO: double the values of glass_of_water\n",
    "glass_of_water=glass_of_water*2\n",
    "print(\"I drank\" , glass_of_water, \"glasses of water today.\")\n",
    "\n",
    "# TODO: print it\n",
    "\n"
   ]
  },
  {
   "cell_type": "markdown",
   "metadata": {
    "id": "FiZ7fs2ro6NB"
   },
   "source": [
    "# Strings\n",
    "Read, complete, and try to understand the output of following examples:"
   ]
  },
  {
   "cell_type": "code",
   "execution_count": 37,
   "metadata": {
    "colab": {
     "base_uri": "https://localhost:8080/"
    },
    "id": "1PzF3sbDo6NB",
    "outputId": "7f8201c5-b487-4934-ddfb-c27696f49b7d"
   },
   "outputs": [
    {
     "output_type": "stream",
     "name": "stdout",
     "text": [
      "30 <class 'int'>\n",
      "66666 <class 'str'>\n",
      "HalmstadHalmstadHalmstad <class 'str'>\n",
      "The legth of Halmstad is 8\n",
      "H\n",
      "Hal\n",
      "d\n",
      "Strandgatan Halmstad Sweden\n"
     ]
    }
   ],
   "source": [
    "a = 6\n",
    "# TODO: modify the print below to also display the type of the variable a\n",
    "print(a*5 , type(a))\n",
    "\n",
    "\n",
    "\n",
    "a = \"6\"\n",
    "# TODO: modify the print below to also display the type of the variable a\n",
    "print(a*5 , type(a))\n",
    "\n",
    "\n",
    "city = \"Halmstad\"\n",
    "# TODO: modify the print below to also display the type of the variable city\n",
    "print(city * 3 , type(city))\n",
    "\n",
    "\n",
    "n = len(city)\n",
    "print(f\"The legth of {city} is {n}\")\n",
    "\n",
    "print( city[0] )  # The character at index 0\n",
    "print( city[0:3] ) # The sub-string consisting of characters at indices 0, 1, 2\n",
    "# TODO: How would you display the last character in the string city ?\n",
    "print(city[-1])\n",
    "\n",
    "adress = city + \" Sweden\"\n",
    "# TODO: add the string \"Strandgatan \" at the beginning of adress\n",
    "# adress = ...\n",
    "print(\"Strandgatan\" , adress)"
   ]
  },
  {
   "cell_type": "markdown",
   "metadata": {
    "id": "dVTP00k2o6NB"
   },
   "source": [
    "# Swap\n",
    "Complete the code to swap the content of two string variables A and B."
   ]
  },
  {
   "cell_type": "code",
   "execution_count": 3,
   "metadata": {
    "colab": {
     "base_uri": "https://localhost:8080/"
    },
    "id": "zutIPoKTo6NC",
    "outputId": "508127a1-95e7-4edc-bc86-649288b47a92",
    "ExecuteTime": {
     "end_time": "2023-09-03T08:20:15.567032100Z",
     "start_time": "2023-09-03T08:20:07.774767300Z"
    }
   },
   "outputs": [
    {
     "name": "stdout",
     "output_type": "stream",
     "text": [
      "BEFORE: country A is Sweden and country B is Türkiye\n",
      "AFTER: country A is Türkiye and country B is Sweden\n"
     ]
    }
   ],
   "source": [
    "A = input(\"Enter the name of a country: \")\n",
    "B = input(\"Enter the name of another country: \")\n",
    "\n",
    "print(f\"BEFORE: country A is {A} and country B is {B}\")\n",
    "\n",
    "# TODO: Swap the the content of A and B\n",
    "A, B=B, A\n",
    "\n",
    "print(f\"AFTER: country A is {A} and country B is {B}\")"
   ]
  },
  {
   "cell_type": "markdown",
   "metadata": {
    "id": "UDvnEF4Ao6NC"
   },
   "source": [
    "# Performing basic calculations\n",
    "\n",
    "The code below reads a float value into a variable named `x`. Your task is to complete the code in order to calculate the value of `y` which is defined as $y = 3 x^3 - 2 x^2 + 3 x - 1$.\n",
    "\n",
    "Once you finish, you can test your code to see if it works, using the following examples:\n",
    "- with an input $x$ equal to 0, $y$ should be -1.0\n",
    "- with an input $x$ equal to 1, $y$ should be 3.0\n",
    "- with an input $x$ equal to -1, $y$ should be -9.0\n"
   ]
  },
  {
   "cell_type": "code",
   "execution_count": 3,
   "metadata": {
    "colab": {
     "base_uri": "https://localhost:8080/"
    },
    "id": "cRLRUWZ4o6NC",
    "outputId": "1740d617-a3ef-4171-8f77-e99deec50285"
   },
   "outputs": [
    {
     "output_type": "stream",
     "name": "stdout",
     "text": [
      "Please enter a number: -1\n",
      "y is  -9.0\n"
     ]
    }
   ],
   "source": [
    "x = input(\"Please enter a number: \")\n",
    "x = float(x)\n",
    "y = 3 * x**3 - 2 * x**2 + 3 * x - 1\n",
    "print(\"y is \", y)\n"
   ]
  },
  {
   "cell_type": "markdown",
   "metadata": {
    "id": "azowGUqco6ND"
   },
   "source": [
    "# Total price calculation\n",
    "\n",
    "Write a program that reads:\n",
    "- (1) the price of an item (a float number)\n",
    "- (2) the number of items to buy (an integer number)\n",
    "- (3) the tax rate (a percentage represented by a float number between 0 and 1)\n",
    "\n",
    "The program should then provides the total price including tax.\n",
    "\n",
    "For example, suppose that a phone costs 1000 SEK, you want to buy 3 phones, and the tax rate is 0.1 (or 10%).\n",
    "The price for the three phones (before tax) is $1000 \\times 3 = 3000$ SEK. The tax to pay is $3000 \\times 0.1 = 300$ SEK. So, the total price including tax is $3000 + 300 = 3300$ SEK."
   ]
  },
  {
   "cell_type": "code",
   "execution_count": 7,
   "metadata": {
    "colab": {
     "base_uri": "https://localhost:8080/"
    },
    "id": "7p2rNoe7o6ND",
    "outputId": "2a19e6a7-eb72-4013-9ebf-b8e82dc4b4d0"
   },
   "outputs": [
    {
     "output_type": "stream",
     "name": "stdout",
     "text": [
      "Please enter the price of an item: 1000\n",
      "Please write the number of items to buy: 3\n",
      "Please write the tax rate between 0 and 1: 0.1\n",
      "3300.0 SEK\n"
     ]
    }
   ],
   "source": [
    "# TODO: your code here\n",
    "price = float(input(\"Please enter the price of an item: \"))\n",
    "number_of_items= int(input(\"Please write the number of items to buy: \"))\n",
    "tax_rate= float(input(\"Please write the tax rate between 0 and 1: \"))\n",
    "\n",
    "print(price*number_of_items+price*tax_rate*number_of_items , \"SEK\"\n",
    ")\n",
    "\n",
    "\n"
   ]
  }
 ],
 "metadata": {
  "kernelspec": {
   "display_name": "Python 3 (ipykernel)",
   "language": "python",
   "name": "python3"
  },
  "language_info": {
   "codemirror_mode": {
    "name": "ipython",
    "version": 3
   },
   "file_extension": ".py",
   "mimetype": "text/x-python",
   "name": "python",
   "nbconvert_exporter": "python",
   "pygments_lexer": "ipython3",
   "version": "3.9.13"
  },
  "colab": {
   "provenance": []
  }
 },
 "nbformat": 4,
 "nbformat_minor": 0
}
