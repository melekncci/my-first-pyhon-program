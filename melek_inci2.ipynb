{
 "cells": [
  {
   "cell_type": "code",
   "execution_count": 1,
   "id": "3db29761",
   "metadata": {},
   "outputs": [
    {
     "name": "stdout",
     "output_type": "stream",
     "text": [
      "Net salary:  8075.0\n"
     ]
    }
   ],
   "source": [
    "salary  = int(input(\"Enter your salary information to learn about the tax deduction: \"))\n",
    "\n",
    "if salary <= 10000:\n",
    "    print(\"Net salary: \", salary*95/100)\n",
    "elif salary <= 25000:\n",
    "    print(\"Net salary: \", salary*90/100)\n",
    "elif salary <= 45000:\n",
    "    print(\"Net salary: \", salary*25/100)\n",
    "else:\n",
    "    print(\"Net salary: \", salary*70/100)"
   ]
  },
  {
   "cell_type": "code",
   "execution_count": 2,
   "id": "95bdb558",
   "metadata": {},
   "outputs": [
    {
     "name": "stdout",
     "output_type": "stream",
     "text": [
      "Your account has been created.\n"
     ]
    }
   ],
   "source": [
    "user = input(\"Enter username: \")\n",
    "password = input(\"Enter password: \")\n",
    "\n",
    "if len(password) < 6:\n",
    "    print(\"Your password must be at least six characters long. Please try again.\")\n",
    "else:\n",
    "    print(\"Your account has been created.\")"
   ]
  },
  {
   "cell_type": "code",
   "execution_count": 3,
   "id": "c87647b7",
   "metadata": {},
   "outputs": [
    {
     "name": "stdout",
     "output_type": "stream",
     "text": [
      "\n",
      "Your account has been created.\n"
     ]
    }
   ],
   "source": [
    "while True:\n",
    "    print(\"\")\n",
    "    password = input(\"Your password: \")\n",
    "    number = len(password)\n",
    "    if number > 5 and number < 10:\n",
    "        print(\"Your account has been created.\")\n",
    "        break\n",
    "    else:\n",
    "        print(\"The password does not meet the appropriate criteria, please try again.\")"
   ]
  },
  {
   "cell_type": "code",
   "execution_count": 4,
   "id": "5537d802",
   "metadata": {},
   "outputs": [
    {
     "name": "stdout",
     "output_type": "stream",
     "text": [
      "Wrong password! Try again.\n",
      "Wrong password! Try again.\n",
      "Wrong password! Try again.\n",
      "You have entered incorrectly 3 times, try again after 24 hours.\n"
     ]
    }
   ],
   "source": [
    "password1 = \"signature\"\n",
    "user_name = input(\"Enter your username: \")\n",
    "\n",
    "for i in range(3):\n",
    "    password = input(\"Enter your password: \")\n",
    "    if password == password1:\n",
    "        print(\"Signed in.\")\n",
    "        break\n",
    "    else: \n",
    "        print(\"Wrong password! Try again.\")\n",
    "else:\n",
    "    print(\"You have entered incorrectly 3 times, try again after 24 hours.\")"
   ]
  }
 ],
 "metadata": {
  "kernelspec": {
   "display_name": "Python 3 (ipykernel)",
   "language": "python",
   "name": "python3"
  },
  "language_info": {
   "codemirror_mode": {
    "name": "ipython",
    "version": 3
   },
   "file_extension": ".py",
   "mimetype": "text/x-python",
   "name": "python",
   "nbconvert_exporter": "python",
   "pygments_lexer": "ipython3",
   "version": "3.11.3"
  }
 },
 "nbformat": 4,
 "nbformat_minor": 5
}
