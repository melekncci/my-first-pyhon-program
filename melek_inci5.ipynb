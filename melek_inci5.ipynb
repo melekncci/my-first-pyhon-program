{
 "cells": [
  {
   "cell_type": "markdown",
   "id": "a0f6364d",
   "metadata": {},
   "source": [
    "# 1\n",
    "\n",
    "Sayılardan oluşan bir boyutlu array oluşturun. Arrayi oluştururken sayıların veri tipini integer olarak belirtelim.\n",
    "\n",
    "Oluşturulan arrayin boyut, eleman sayısı bilgilerine bakalım."
   ]
  },
  {
   "cell_type": "code",
   "execution_count": 85,
   "id": "c16c30a6",
   "metadata": {},
   "outputs": [
    {
     "name": "stdout",
     "output_type": "stream",
     "text": [
      "[ 0  2  4  6  8 10]\n",
      "1\n",
      "6\n"
     ]
    }
   ],
   "source": [
    "#MELEK İNCİ        \n",
    "import numpy as np\n",
    "\n",
    "sayilar=np.array([0.1,2.54,4.57,6.43,8,10.01], dtype=\"int\")\n",
    "print(sayilar)\n",
    "print(sayilar.ndim)\n",
    "print(sayilar.size)"
   ]
  },
  {
   "cell_type": "markdown",
   "id": "d28497a8",
   "metadata": {},
   "source": [
    "# 2\n",
    "İki ve üç boyutlu arrayler oluşturalım. Bu arraylerin boyut, eleman sayısı, satır, sütun bilgilerine ulaşalım. \n",
    "\n",
    "Arrayler üzerinde indexleme ve dilimleme(slicing) işlemi yapalım."
   ]
  },
  {
   "cell_type": "code",
   "execution_count": 86,
   "id": "fd4644a9",
   "metadata": {},
   "outputs": [
    {
     "name": "stdout",
     "output_type": "stream",
     "text": [
      "2\n",
      "8\n",
      "3\n",
      "12\n"
     ]
    },
    {
     "data": {
      "text/plain": [
       "array([61, 17, 34, 36])"
      ]
     },
     "execution_count": 86,
     "metadata": {},
     "output_type": "execute_result"
    }
   ],
   "source": [
    "dizi1=np.array([[0,2,4,6],[61,17,34,36]])\n",
    "dizi2=np.array([[[13,2,2001,25],[0,4,3,4],[6,9,3,0]]])\n",
    "print(dizi1.ndim)\n",
    "print(dizi1.size)\n",
    "print(dizi2.ndim)\n",
    "print(dizi2.size)\n",
    "\n",
    "dizi1[1]"
   ]
  },
  {
   "cell_type": "code",
   "execution_count": 87,
   "id": "62af0ad8",
   "metadata": {},
   "outputs": [
    {
     "data": {
      "text/plain": [
       "array([0, 4, 3, 4])"
      ]
     },
     "execution_count": 87,
     "metadata": {},
     "output_type": "execute_result"
    }
   ],
   "source": [
    "dizi2[0,1]"
   ]
  },
  {
   "cell_type": "code",
   "execution_count": 88,
   "id": "997f7187",
   "metadata": {},
   "outputs": [
    {
     "data": {
      "text/plain": [
       "array([[ 0,  2,  4,  6],\n",
       "       [61, 17, 34, 36]])"
      ]
     },
     "execution_count": 88,
     "metadata": {},
     "output_type": "execute_result"
    }
   ],
   "source": [
    "dizi1[:2]"
   ]
  },
  {
   "cell_type": "code",
   "execution_count": 89,
   "id": "023fd4e7",
   "metadata": {},
   "outputs": [
    {
     "data": {
      "text/plain": [
       "array([4])"
      ]
     },
     "execution_count": 89,
     "metadata": {},
     "output_type": "execute_result"
    }
   ],
   "source": [
    "dizi2[0:,1,3]"
   ]
  },
  {
   "cell_type": "markdown",
   "id": "9c5594e8",
   "metadata": {},
   "source": [
    "# 3\n",
    "\n",
    "Numpy fonksiyonu kullanarak bir, iki ve üç boyutlu arrayler oluşturalım. Arrayler üzerinde indexleme ve dilimleme(slicing) işlemi yapalım."
   ]
  },
  {
   "cell_type": "code",
   "execution_count": 90,
   "id": "e905f102",
   "metadata": {},
   "outputs": [],
   "source": [
    "array1=np.array([11,22,33,44,55,66,77,88,99])\n",
    "\n",
    "\n",
    "array2=np.array([[1,2,3,4,5,6,7],\n",
    "                 [9,8,7,6,5,4,3]])\n",
    "\n",
    "\n",
    "array3=np.array([[[1,3,3,4,5,0,3,2,1],\n",
    "                 [33,22,11,44,55,66,77,88,99],  \n",
    "                 [4,34,52,71,25,1,43,15,63]],\n",
    "                  \n",
    "                [[1,2,3,4,5,6,7,8,9],\n",
    "                 [1,1,4,41,21,62,91,80,17],  \n",
    "                 [0,1,2,3,4,6,7,8,5]]])\n"
   ]
  },
  {
   "cell_type": "code",
   "execution_count": 91,
   "id": "098bffef",
   "metadata": {},
   "outputs": [
    {
     "data": {
      "text/plain": [
       "77"
      ]
     },
     "execution_count": 91,
     "metadata": {},
     "output_type": "execute_result"
    }
   ],
   "source": [
    "array1[6]"
   ]
  },
  {
   "cell_type": "code",
   "execution_count": 92,
   "id": "fefecc9d",
   "metadata": {},
   "outputs": [
    {
     "data": {
      "text/plain": [
       "array([22, 33])"
      ]
     },
     "execution_count": 92,
     "metadata": {},
     "output_type": "execute_result"
    }
   ],
   "source": [
    "array1[1:3]"
   ]
  },
  {
   "cell_type": "code",
   "execution_count": 93,
   "id": "f1d96793",
   "metadata": {},
   "outputs": [
    {
     "data": {
      "text/plain": [
       "array([11, 22, 33, 44, 55, 66, 77, 88])"
      ]
     },
     "execution_count": 93,
     "metadata": {},
     "output_type": "execute_result"
    }
   ],
   "source": [
    "array1[:8]"
   ]
  },
  {
   "cell_type": "code",
   "execution_count": 94,
   "id": "f8531882",
   "metadata": {},
   "outputs": [
    {
     "data": {
      "text/plain": [
       "7"
      ]
     },
     "execution_count": 94,
     "metadata": {},
     "output_type": "execute_result"
    }
   ],
   "source": [
    "array2[0,6]"
   ]
  },
  {
   "cell_type": "code",
   "execution_count": 95,
   "id": "59772be5",
   "metadata": {},
   "outputs": [
    {
     "data": {
      "text/plain": [
       "4"
      ]
     },
     "execution_count": 95,
     "metadata": {},
     "output_type": "execute_result"
    }
   ],
   "source": [
    "array2[1,5]"
   ]
  },
  {
   "cell_type": "code",
   "execution_count": 96,
   "id": "be29beb6",
   "metadata": {},
   "outputs": [
    {
     "data": {
      "text/plain": [
       "array([[1, 2, 3, 4, 5, 6, 7]])"
      ]
     },
     "execution_count": 96,
     "metadata": {},
     "output_type": "execute_result"
    }
   ],
   "source": [
    "array2[:1]"
   ]
  },
  {
   "cell_type": "code",
   "execution_count": 97,
   "id": "622227ba",
   "metadata": {},
   "outputs": [
    {
     "data": {
      "text/plain": [
       "4"
      ]
     },
     "execution_count": 97,
     "metadata": {},
     "output_type": "execute_result"
    }
   ],
   "source": [
    "array3[1,1,2]"
   ]
  },
  {
   "cell_type": "code",
   "execution_count": 98,
   "id": "021c8d14",
   "metadata": {},
   "outputs": [
    {
     "data": {
      "text/plain": [
       "array([34,  1])"
      ]
     },
     "execution_count": 98,
     "metadata": {},
     "output_type": "execute_result"
    }
   ],
   "source": [
    "array3[0:,2,1]"
   ]
  },
  {
   "cell_type": "code",
   "execution_count": 99,
   "id": "15c2a68b",
   "metadata": {},
   "outputs": [
    {
     "data": {
      "text/plain": [
       "array([[55, 25],\n",
       "       [21,  4]])"
      ]
     },
     "execution_count": 99,
     "metadata": {},
     "output_type": "execute_result"
    }
   ],
   "source": [
    "array3[0:,1:,4]"
   ]
  },
  {
   "cell_type": "markdown",
   "id": "66d2aab8",
   "metadata": {},
   "source": [
    "# 4\n",
    "\n",
    "Sıfırlardan oluşan ve birlerden oluşan iki tane iki boyutlu array oluşturalım. Bu arrayleri satır ve sütun bazında birleştirelim."
   ]
  },
  {
   "cell_type": "code",
   "execution_count": 100,
   "id": "3b05fe01",
   "metadata": {},
   "outputs": [],
   "source": [
    "zeros_array = np.zeros((3, 3),dtype=\"int\")\n",
    "ones_array = np.ones((3, 3),dtype=\"int\") "
   ]
  },
  {
   "cell_type": "code",
   "execution_count": 101,
   "id": "e0cb5b9e",
   "metadata": {},
   "outputs": [
    {
     "name": "stdout",
     "output_type": "stream",
     "text": [
      "[[0 0 0]\n",
      " [0 0 0]\n",
      " [0 0 0]]\n"
     ]
    }
   ],
   "source": [
    "print(zeros_array)"
   ]
  },
  {
   "cell_type": "code",
   "execution_count": 102,
   "id": "ac1ec62f",
   "metadata": {},
   "outputs": [
    {
     "name": "stdout",
     "output_type": "stream",
     "text": [
      "[[1 1 1]\n",
      " [1 1 1]\n",
      " [1 1 1]]\n"
     ]
    }
   ],
   "source": [
    "print(ones_array)"
   ]
  },
  {
   "cell_type": "code",
   "execution_count": 103,
   "id": "2a38e715",
   "metadata": {},
   "outputs": [
    {
     "data": {
      "text/plain": [
       "array([[0, 0, 0],\n",
       "       [0, 0, 0],\n",
       "       [0, 0, 0],\n",
       "       [1, 1, 1],\n",
       "       [1, 1, 1],\n",
       "       [1, 1, 1]])"
      ]
     },
     "execution_count": 103,
     "metadata": {},
     "output_type": "execute_result"
    }
   ],
   "source": [
    "np.concatenate((zeros_array, ones_array), axis=0) "
   ]
  },
  {
   "cell_type": "code",
   "execution_count": 104,
   "id": "339d6eb6",
   "metadata": {},
   "outputs": [
    {
     "data": {
      "text/plain": [
       "array([[0, 0, 0, 1, 1, 1],\n",
       "       [0, 0, 0, 1, 1, 1],\n",
       "       [0, 0, 0, 1, 1, 1]])"
      ]
     },
     "execution_count": 104,
     "metadata": {},
     "output_type": "execute_result"
    }
   ],
   "source": [
    "np.concatenate((zeros_array, ones_array), axis=1) "
   ]
  }
 ],
 "metadata": {
  "kernelspec": {
   "display_name": "Python 3 (ipykernel)",
   "language": "python",
   "name": "python3"
  },
  "language_info": {
   "codemirror_mode": {
    "name": "ipython",
    "version": 3
   },
   "file_extension": ".py",
   "mimetype": "text/x-python",
   "name": "python",
   "nbconvert_exporter": "python",
   "pygments_lexer": "ipython3",
   "version": "3.11.3"
  }
 },
 "nbformat": 4,
 "nbformat_minor": 5
}
